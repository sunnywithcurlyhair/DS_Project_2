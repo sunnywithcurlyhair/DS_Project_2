{
 "cells": [
  {
   "cell_type": "code",
   "execution_count": null,
   "metadata": {},
   "outputs": [],
   "source": []
  },
  {
   "cell_type": "markdown",
   "metadata": {},
   "source": [
    "# IMPORTANT\n",
    "This notebook runs off of the kernel for the Data_Cleaning notebook, you MUST run all cells in that notebook before running this notebook and connect the Kernels."
   ]
  },
  {
   "cell_type": "markdown",
   "metadata": {},
   "source": [
    "## Final Project Submission\n",
    "\n",
    "Please fill out:\n",
    "* Student name: Sunny Liu, Brendan Polke, Colby Gates\n",
    "* Student pace: Full time\n",
    "* Scheduled project review date/time: \n",
    "* Instructor name: Praveen Gowtham\n",
    "* Blog post URL: "
   ]
  },
  {
   "attachments": {},
   "cell_type": "markdown",
   "metadata": {},
   "source": [
    "# Making Millions at the Box Office\n",
    "\n",
    "# Goals"
   ]
  },
  {
   "cell_type": "markdown",
   "metadata": {},
   "source": [
    "The goal of this project was to come up with three concrete recomendations for a company trying to enter into the movie industry based on the movies doing the best at the Box Office.\n",
    "\n"
   ]
  },
  {
   "cell_type": "markdown",
   "metadata": {},
   "source": [
    "To answer this question we will parse the relevant data and isolate variables that contribute most to box office success."
   ]
  },
  {
   "cell_type": "markdown",
   "metadata": {},
   "source": [
    "# Data"
   ]
  },
  {
   "cell_type": "markdown",
   "metadata": {},
   "source": [
    "The data that we are using for our analysis comes from... "
   ]
  },
  {
   "cell_type": "markdown",
   "metadata": {},
   "source": [
    "# Methods"
   ]
  },
  {
   "cell_type": "markdown",
   "metadata": {},
   "source": [
    "## Budget and Evaluation Metric"
   ]
  },
  {
   "cell_type": "markdown",
   "metadata": {},
   "source": [
    "Before discussing the relevant variables we found that may contribute to box office success it is important to understand the metric that we are using to quantify box office success. At first glance it may have been easy to just look at domestic gross totals, foreign gross totals and worldwide grossing totals but this does not account for the money spent getting the movie to the box office. For example a movie that grosses a hundred million dollars worldwide but had a production budget of ninty million has a much lower return on investment then a movie that grosses fifty million dollars but only cost ten million to make. Because of this we decided to create three metrics that we defined as domestic success, foreign success and worldwide success by taking the gross of each market (domestic, foreign and worldwide) and dividing it by the production budget. In doing so we created a standardized metric comparable across all movies no matter the budget. If this new metric was greater then 1 it meant that the movies made more money then they spent, i.e the larger the number the more profitable compared to the budget the movie was."
   ]
  },
  {
   "cell_type": "markdown",
   "metadata": {},
   "source": [
    "## Additional Metrics"
   ]
  },
  {
   "cell_type": "markdown",
   "metadata": {},
   "source": [
    "## Budget"
   ]
  },
  {
   "cell_type": "markdown",
   "metadata": {},
   "source": [
    "One of the first variables we chose to examine was the budget of a given movie. It felt clear to us that not all movies are made equal. A hundred million dollar movie and the variables influencing it's success feels much different then a fifty thousand dollar movie. After a little bit of outside research on industry standards we decided to split movies into three categories: low budget movies, mid budget movies and high budget movies. We defined low budget movies as movies with a production budget less then five million dollars. Mid budget movies are defined as movies with a budget between five and fifty million dollars and high budget movies with budgets greater then fifty million dollars."
   ]
  },
  {
   "cell_type": "markdown",
   "metadata": {},
   "source": [
    "## Runtime"
   ]
  },
  {
   "cell_type": "markdown",
   "metadata": {},
   "source": [
    "The next metric we looked at was the runtime of movies. Movies these days can range any where from forty five minutes to the new trend of the three plus hour movie. Is there a sweet spot for profitable movies? Are people more likely to spend the money to watch to movie if it's short and sweet? Or are they more likely to gravitate towards the longer movie because they want the most bang for their buck? In an attempt to answer these questions we ran analysis on the runtime of movies compared to the ROI to see if we could gain any insight."
   ]
  },
  {
   "cell_type": "markdown",
   "metadata": {},
   "source": [
    "## Genre"
   ]
  },
  {
   "cell_type": "markdown",
   "metadata": {},
   "source": [
    "Another metric we choose to examine was the genre of movie. It is not unusual for someone to look at the genre of a movie and either immediately decide they don't want to watch it (rom com or horror movie maybe), while there are other genres where people gravitate towards. Is this an individual trend or are there larger trends in the types of movies people enjoy? Is there a particular genre of movie that does the best at the box office? Are there certain genres you want to avoid when making a movie? "
   ]
  },
  {
   "cell_type": "markdown",
   "metadata": {},
   "source": [
    "## Personel"
   ]
  },
  {
   "cell_type": "markdown",
   "metadata": {},
   "source": [
    "The last metric we choose to look at was specific personel and how certain writers, producers and actors might effect box office outcomes of movies. There are certain people whom, if they see that perhaps Brad Pitt is in a movie will watch it no matter what. Are there certain individuals with the midas touch where every movie they participate in seems to be a success? "
   ]
  },
  {
   "cell_type": "markdown",
   "metadata": {},
   "source": [
    "# Results"
   ]
  },
  {
   "cell_type": "markdown",
   "metadata": {},
   "source": [
    "## Budget"
   ]
  },
  {
   "cell_type": "markdown",
   "metadata": {},
   "source": [
    "After dividing films into our three categories of low, medium and high budget films we looked at descriptive statistics across these three categories to see if there are signifigant differences between them. Below is code that creates a table of descritive statistics for each bidget level "
   ]
  },
  {
   "cell_type": "code",
   "execution_count": 8,
   "metadata": {},
   "outputs": [
    {
     "data": {
      "text/html": [
       "<div>\n",
       "<style scoped>\n",
       "    .dataframe tbody tr th:only-of-type {\n",
       "        vertical-align: middle;\n",
       "    }\n",
       "\n",
       "    .dataframe tbody tr th {\n",
       "        vertical-align: top;\n",
       "    }\n",
       "\n",
       "    .dataframe thead th {\n",
       "        text-align: right;\n",
       "    }\n",
       "</style>\n",
       "<table border=\"1\" class=\"dataframe\">\n",
       "  <thead>\n",
       "    <tr style=\"text-align: right;\">\n",
       "      <th></th>\n",
       "      <th>domestic_success</th>\n",
       "      <th>foreign_success</th>\n",
       "      <th>WW_success</th>\n",
       "    </tr>\n",
       "  </thead>\n",
       "  <tbody>\n",
       "    <tr>\n",
       "      <th>count</th>\n",
       "      <td>1104.000000</td>\n",
       "      <td>76.000000</td>\n",
       "      <td>1104.000000</td>\n",
       "    </tr>\n",
       "    <tr>\n",
       "      <th>mean</th>\n",
       "      <td>9.171927</td>\n",
       "      <td>7.435801</td>\n",
       "      <td>13.057042</td>\n",
       "    </tr>\n",
       "    <tr>\n",
       "      <th>std</th>\n",
       "      <td>59.100067</td>\n",
       "      <td>24.142682</td>\n",
       "      <td>66.335127</td>\n",
       "    </tr>\n",
       "    <tr>\n",
       "      <th>min</th>\n",
       "      <td>0.000000</td>\n",
       "      <td>0.004550</td>\n",
       "      <td>0.000026</td>\n",
       "    </tr>\n",
       "    <tr>\n",
       "      <th>25%</th>\n",
       "      <td>0.075408</td>\n",
       "      <td>0.289624</td>\n",
       "      <td>0.212978</td>\n",
       "    </tr>\n",
       "    <tr>\n",
       "      <th>50%</th>\n",
       "      <td>0.941282</td>\n",
       "      <td>1.833333</td>\n",
       "      <td>1.686642</td>\n",
       "    </tr>\n",
       "    <tr>\n",
       "      <th>75%</th>\n",
       "      <td>4.895456</td>\n",
       "      <td>4.452778</td>\n",
       "      <td>7.058571</td>\n",
       "    </tr>\n",
       "    <tr>\n",
       "      <th>max</th>\n",
       "      <td>1800.000000</td>\n",
       "      <td>202.000000</td>\n",
       "      <td>1800.000000</td>\n",
       "    </tr>\n",
       "  </tbody>\n",
       "</table>\n",
       "</div>"
      ],
      "text/plain": [
       "       domestic_success  foreign_success   WW_success\n",
       "count       1104.000000        76.000000  1104.000000\n",
       "mean           9.171927         7.435801    13.057042\n",
       "std           59.100067        24.142682    66.335127\n",
       "min            0.000000         0.004550     0.000026\n",
       "25%            0.075408         0.289624     0.212978\n",
       "50%            0.941282         1.833333     1.686642\n",
       "75%            4.895456         4.452778     7.058571\n",
       "max         1800.000000       202.000000  1800.000000"
      ]
     },
     "execution_count": 8,
     "metadata": {},
     "output_type": "execute_result"
    }
   ],
   "source": [
    "low_budget.describe().iloc[:,-3:]"
   ]
  },
  {
   "cell_type": "code",
   "execution_count": 9,
   "metadata": {},
   "outputs": [
    {
     "data": {
      "text/html": [
       "<div>\n",
       "<style scoped>\n",
       "    .dataframe tbody tr th:only-of-type {\n",
       "        vertical-align: middle;\n",
       "    }\n",
       "\n",
       "    .dataframe tbody tr th {\n",
       "        vertical-align: top;\n",
       "    }\n",
       "\n",
       "    .dataframe thead th {\n",
       "        text-align: right;\n",
       "    }\n",
       "</style>\n",
       "<table border=\"1\" class=\"dataframe\">\n",
       "  <thead>\n",
       "    <tr style=\"text-align: right;\">\n",
       "      <th></th>\n",
       "      <th>domestic_success</th>\n",
       "      <th>foreign_success</th>\n",
       "      <th>WW_success</th>\n",
       "    </tr>\n",
       "  </thead>\n",
       "  <tbody>\n",
       "    <tr>\n",
       "      <th>count</th>\n",
       "      <td>2975.000000</td>\n",
       "      <td>592.000000</td>\n",
       "      <td>2975.000000</td>\n",
       "    </tr>\n",
       "    <tr>\n",
       "      <th>mean</th>\n",
       "      <td>1.743540</td>\n",
       "      <td>1.748970</td>\n",
       "      <td>3.072227</td>\n",
       "    </tr>\n",
       "    <tr>\n",
       "      <th>std</th>\n",
       "      <td>2.633854</td>\n",
       "      <td>2.738256</td>\n",
       "      <td>4.748629</td>\n",
       "    </tr>\n",
       "    <tr>\n",
       "      <th>min</th>\n",
       "      <td>0.000000</td>\n",
       "      <td>0.000030</td>\n",
       "      <td>0.000125</td>\n",
       "    </tr>\n",
       "    <tr>\n",
       "      <th>25%</th>\n",
       "      <td>0.318128</td>\n",
       "      <td>0.357024</td>\n",
       "      <td>0.625621</td>\n",
       "    </tr>\n",
       "    <tr>\n",
       "      <th>50%</th>\n",
       "      <td>0.997365</td>\n",
       "      <td>0.927857</td>\n",
       "      <td>1.722419</td>\n",
       "    </tr>\n",
       "    <tr>\n",
       "      <th>75%</th>\n",
       "      <td>2.157811</td>\n",
       "      <td>2.068750</td>\n",
       "      <td>3.609725</td>\n",
       "    </tr>\n",
       "    <tr>\n",
       "      <th>max</th>\n",
       "      <td>41.908910</td>\n",
       "      <td>30.578947</td>\n",
       "      <td>75.520507</td>\n",
       "    </tr>\n",
       "  </tbody>\n",
       "</table>\n",
       "</div>"
      ],
      "text/plain": [
       "       domestic_success  foreign_success   WW_success\n",
       "count       2975.000000       592.000000  2975.000000\n",
       "mean           1.743540         1.748970     3.072227\n",
       "std            2.633854         2.738256     4.748629\n",
       "min            0.000000         0.000030     0.000125\n",
       "25%            0.318128         0.357024     0.625621\n",
       "50%            0.997365         0.927857     1.722419\n",
       "75%            2.157811         2.068750     3.609725\n",
       "max           41.908910        30.578947    75.520507"
      ]
     },
     "execution_count": 9,
     "metadata": {},
     "output_type": "execute_result"
    }
   ],
   "source": [
    "mid_budget.describe().iloc[:,-3:]"
   ]
  },
  {
   "cell_type": "code",
   "execution_count": 10,
   "metadata": {},
   "outputs": [
    {
     "data": {
      "text/html": [
       "<div>\n",
       "<style scoped>\n",
       "    .dataframe tbody tr th:only-of-type {\n",
       "        vertical-align: middle;\n",
       "    }\n",
       "\n",
       "    .dataframe tbody tr th {\n",
       "        vertical-align: top;\n",
       "    }\n",
       "\n",
       "    .dataframe thead th {\n",
       "        text-align: right;\n",
       "    }\n",
       "</style>\n",
       "<table border=\"1\" class=\"dataframe\">\n",
       "  <thead>\n",
       "    <tr style=\"text-align: right;\">\n",
       "      <th></th>\n",
       "      <th>domestic_success</th>\n",
       "      <th>foreign_success</th>\n",
       "      <th>WW_success</th>\n",
       "    </tr>\n",
       "  </thead>\n",
       "  <tbody>\n",
       "    <tr>\n",
       "      <th>count</th>\n",
       "      <td>1073.000000</td>\n",
       "      <td>341.000000</td>\n",
       "      <td>1073.000000</td>\n",
       "    </tr>\n",
       "    <tr>\n",
       "      <th>mean</th>\n",
       "      <td>1.162799</td>\n",
       "      <td>2.023427</td>\n",
       "      <td>2.817022</td>\n",
       "    </tr>\n",
       "    <tr>\n",
       "      <th>std</th>\n",
       "      <td>0.890666</td>\n",
       "      <td>1.569798</td>\n",
       "      <td>2.224842</td>\n",
       "    </tr>\n",
       "    <tr>\n",
       "      <th>min</th>\n",
       "      <td>0.000000</td>\n",
       "      <td>0.000004</td>\n",
       "      <td>0.007943</td>\n",
       "    </tr>\n",
       "    <tr>\n",
       "      <th>25%</th>\n",
       "      <td>0.556753</td>\n",
       "      <td>0.986667</td>\n",
       "      <td>1.295164</td>\n",
       "    </tr>\n",
       "    <tr>\n",
       "      <th>50%</th>\n",
       "      <td>0.934403</td>\n",
       "      <td>1.672727</td>\n",
       "      <td>2.284781</td>\n",
       "    </tr>\n",
       "    <tr>\n",
       "      <th>75%</th>\n",
       "      <td>1.512535</td>\n",
       "      <td>2.697143</td>\n",
       "      <td>3.667582</td>\n",
       "    </tr>\n",
       "    <tr>\n",
       "      <th>max</th>\n",
       "      <td>6.303232</td>\n",
       "      <td>12.494545</td>\n",
       "      <td>16.489089</td>\n",
       "    </tr>\n",
       "  </tbody>\n",
       "</table>\n",
       "</div>"
      ],
      "text/plain": [
       "       domestic_success  foreign_success   WW_success\n",
       "count       1073.000000       341.000000  1073.000000\n",
       "mean           1.162799         2.023427     2.817022\n",
       "std            0.890666         1.569798     2.224842\n",
       "min            0.000000         0.000004     0.007943\n",
       "25%            0.556753         0.986667     1.295164\n",
       "50%            0.934403         1.672727     2.284781\n",
       "75%            1.512535         2.697143     3.667582\n",
       "max            6.303232        12.494545    16.489089"
      ]
     },
     "execution_count": 10,
     "metadata": {},
     "output_type": "execute_result"
    }
   ],
   "source": [
    "high_budget.describe().iloc[:,-3:]"
   ]
  },
  {
   "cell_type": "markdown",
   "metadata": {},
   "source": [
    "There is a clear difference across these three categories. The low budget films means across all three categories of success by quite a bit as well as a signifigantly larger standard deviation. In contrast with the large means, the medians across the three metrics for low budget films are quite similar if not slightly smaller then both the mid and high budget films. All of this goes to suggest that low budget films seem to be a high risk high reward type of investment.\n",
    "\n",
    "Medium budget films are have similar means and medians compared to the high budget films but larger standard deviations and in turn signifigantly larger maximums. This suggested to us the while being a safer bet then the low budget films the variablity in success seen in these films compared to the high bugdet films makes for a slightly riskier invesetment with slightly higher upside.\n",
    "\n",
    "Lastly, high budget films have the smallest means of the three categories (except for foriegn success), as well as the smallest standard deviation making for the safest movie to invest in."
   ]
  },
  {
   "cell_type": "markdown",
   "metadata": {},
   "source": [
    "## Runtime"
   ]
  },
  {
   "cell_type": "markdown",
   "metadata": {},
   "source": [
    "The following code looks at a distribution of runtimes for each budget level as well as creating 95% confidence intervals for the mean of each. Importantly the movies displayed are just the movies that were able to make money."
   ]
  },
  {
   "cell_type": "code",
   "execution_count": 12,
   "metadata": {},
   "outputs": [
    {
     "data": {
      "text/plain": [
       "Text(0.5, 0, 'Runtime (minutes)')"
      ]
     },
     "execution_count": 12,
     "metadata": {},
     "output_type": "execute_result"
    },
    {
     "data": {
      "image/png": "[encoded data removed]",
      "text/plain": [
       "<Figure size 2000x800 with 3 Axes>"
      ]
     },
     "metadata": {},
     "output_type": "display_data"
    }
   ],
   "source": [
    "fig, ax = plt.subplots(1,3, figsize = (20,8), sharex = True)\n",
    "\n",
    "ax[0].hist(low_budget_ratings_moneymaker['runtime_minutes'], bins = 20)\n",
    "\n",
    "\n",
    "ax[1].hist(mid_budget_ratings_moneymaker['runtime_minutes'],bins = 20)\n",
    "ax[2].hist(high_budget_ratings_moneymaker['runtime_minutes'],bins = 20)\n",
    "\n",
    "ax[0].set_title('Low Budget Runtime Distribution')\n",
    "ax[0].set_xlabel('Runtime (minutes)')\n",
    "ax[1].set_title('Mid Budget Runtime Distribution')\n",
    "ax[1].set_xlabel('Runtime (minutes)')\n",
    "ax[2].set_title('High Budget Runtime Distribution')\n",
    "ax[2].set_xlabel('Runtime (minutes)')"
   ]
  },
  {
   "cell_type": "code",
   "execution_count": 13,
   "metadata": {},
   "outputs": [
    {
     "name": "stdout",
     "output_type": "stream",
     "text": [
      "Low Budget Sample mean: 96.74193548387096\n",
      "Low Budget Sample standard deviation: 14.54437583135276\n",
      "Low Budget Estimated standard error: 1.8324191154484621\n"
     ]
    },
    {
     "data": {
      "text/plain": [
       "(93.0789818663082, 100.40488910143372)"
      ]
     },
     "execution_count": 13,
     "metadata": {},
     "output_type": "execute_result"
    }
   ],
   "source": [
    "x_bar = np.mean(low_budget_ratings_moneymaker['runtime_minutes'])\n",
    "s = np.std(low_budget_ratings_moneymaker['runtime_minutes'], ddof = 1)\n",
    "se = s/np.sqrt(len(low_budget_ratings_moneymaker['runtime_minutes']))\n",
    "print('Low Budget Sample mean:', x_bar)\n",
    "print('Low Budget Sample standard deviation:', s)\n",
    "print('Low Budget Estimated standard error:', se)\n",
    "stats.t.interval(confidence = 0.95,                              \n",
    "                 df= len(low_budget_ratings_moneymaker['runtime_minutes'])-1,             \n",
    "                 loc = x_bar,                               \n",
    "                 scale = se)    "
   ]
  },
  {
   "cell_type": "code",
   "execution_count": 14,
   "metadata": {},
   "outputs": [
    {
     "name": "stdout",
     "output_type": "stream",
     "text": [
      "Mid Budget Sample mean: 105.67630057803468\n",
      "Mid Budget Sample standard deviation: 18.327122889098113\n",
      "Mid Budget Estimated standard error: 0.7983420122265681\n"
     ]
    },
    {
     "data": {
      "text/plain": [
       "(104.10797028891557, 107.2446308671538)"
      ]
     },
     "execution_count": 14,
     "metadata": {},
     "output_type": "execute_result"
    }
   ],
   "source": [
    "x_bar = np.mean(mid_budget_ratings_moneymaker['runtime_minutes'])\n",
    "s = np.std(mid_budget_ratings_moneymaker['runtime_minutes'], ddof = 1)\n",
    "se = s/np.sqrt(len(mid_budget_ratings_moneymaker['runtime_minutes']))\n",
    "print('Mid Budget Sample mean:', x_bar)\n",
    "print('Mid Budget Sample standard deviation:', s)\n",
    "print('Mid Budget Estimated standard error:', se)\n",
    "stats.t.interval(confidence = 0.95,                              \n",
    "                 df= len(mid_budget_ratings_moneymaker['runtime_minutes'])-1,             \n",
    "                 loc = x_bar,                               \n",
    "                 scale = se)    "
   ]
  },
  {
   "cell_type": "code",
   "execution_count": 15,
   "metadata": {},
   "outputs": [
    {
     "name": "stdout",
     "output_type": "stream",
     "text": [
      "High Budget Sample mean: 113.0635838150289\n",
      "High Budget Sample standard deviation: 21.285676013482064\n",
      "High Budget Estimated standard error: 1.129726382616637\n"
     ]
    },
    {
     "data": {
      "text/plain": [
       "(110.84176461202, 115.28540301803781)"
      ]
     },
     "execution_count": 15,
     "metadata": {},
     "output_type": "execute_result"
    }
   ],
   "source": [
    "x_bar = np.mean(high_budget_ratings_moneymaker['runtime_minutes'])\n",
    "s = np.std(high_budget_ratings_moneymaker['runtime_minutes'], ddof = 1)\n",
    "se = s/np.sqrt(len(high_budget_ratings_moneymaker['runtime_minutes']))\n",
    "print('High Budget Sample mean:', x_bar)\n",
    "print('High Budget Sample standard deviation:', s)\n",
    "print('High Budget Estimated standard error:', se)\n",
    "stats.t.interval(confidence = 0.95,                              \n",
    "                 df= len(high_budget_ratings_moneymaker['runtime_minutes'])-1,             \n",
    "                 loc = x_bar,                               \n",
    "                 scale = se)    "
   ]
  },
  {
   "cell_type": "markdown",
   "metadata": {},
   "source": [
    "Looking at the three distributions runtimes seem to be more concentrated the smaller the budget and as you go up in category the distribution widens. Although they all seem to be centralized around a similar point the analysis of the mean, standard deviation and standard error as well as the 95% confidence interval reconfirm what is visually aparent. The cheaper the movie the shorter the money making movies tend to be with much less leniance for different run times while as the movies get larger in scale there is more wiggle room for the runtime of a successful movie and movies tend to be longer."
   ]
  },
  {
   "cell_type": "markdown",
   "metadata": {},
   "source": [
    "## Language"
   ]
  },
  {
   "cell_type": "markdown",
   "metadata": {},
   "source": [
    "The next variable we looked at was langauge, specificially how language effected the foreign box office succes of films"
   ]
  },
  {
   "cell_type": "code",
   "execution_count": 16,
   "metadata": {},
   "outputs": [
    {
     "data": {
      "text/html": [
       "<div>\n",
       "<style scoped>\n",
       "    .dataframe tbody tr th:only-of-type {\n",
       "        vertical-align: middle;\n",
       "    }\n",
       "\n",
       "    .dataframe tbody tr th {\n",
       "        vertical-align: top;\n",
       "    }\n",
       "\n",
       "    .dataframe thead th {\n",
       "        text-align: right;\n",
       "    }\n",
       "</style>\n",
       "<table border=\"1\" class=\"dataframe\">\n",
       "  <thead>\n",
       "    <tr style=\"text-align: right;\">\n",
       "      <th></th>\n",
       "      <th>language</th>\n",
       "      <th>median_foreignratio</th>\n",
       "      <th>rng</th>\n",
       "    </tr>\n",
       "  </thead>\n",
       "  <tbody>\n",
       "    <tr>\n",
       "      <th>1</th>\n",
       "      <td>Croatian</td>\n",
       "      <td>9.866667</td>\n",
       "      <td>28.361905</td>\n",
       "    </tr>\n",
       "    <tr>\n",
       "      <th>5</th>\n",
       "      <td>English</td>\n",
       "      <td>4.371429</td>\n",
       "      <td>31.566000</td>\n",
       "    </tr>\n",
       "    <tr>\n",
       "      <th>6</th>\n",
       "      <td>French</td>\n",
       "      <td>4.250000</td>\n",
       "      <td>201.930000</td>\n",
       "    </tr>\n",
       "    <tr>\n",
       "      <th>7</th>\n",
       "      <td>Turkish</td>\n",
       "      <td>3.700000</td>\n",
       "      <td>201.930000</td>\n",
       "    </tr>\n",
       "    <tr>\n",
       "      <th>8</th>\n",
       "      <td>Bulgarian</td>\n",
       "      <td>3.650000</td>\n",
       "      <td>48.406667</td>\n",
       "    </tr>\n",
       "    <tr>\n",
       "      <th>9</th>\n",
       "      <td>Hebrew</td>\n",
       "      <td>3.562500</td>\n",
       "      <td>48.321250</td>\n",
       "    </tr>\n",
       "  </tbody>\n",
       "</table>\n",
       "</div>"
      ],
      "text/plain": [
       "    language  median_foreignratio         rng\n",
       "1   Croatian             9.866667   28.361905\n",
       "5    English             4.371429   31.566000\n",
       "6     French             4.250000  201.930000\n",
       "7    Turkish             3.700000  201.930000\n",
       "8  Bulgarian             3.650000   48.406667\n",
       "9     Hebrew             3.562500   48.321250"
      ]
     },
     "execution_count": 16,
     "metadata": {},
     "output_type": "execute_result"
    }
   ],
   "source": [
    "median_lowbudget_lang = reg_lang_low_budget.groupby('language').agg(\n",
    "  median_foreignratio=('foreign_success', 'median'),\n",
    "  rng=(\"foreign_success\", lambda x: (max(x) - min(x)))).sort_values('median_foreignratio', ascending = False)\n",
    "\n",
    "median_lowbudget_lang = median_lowbudget_lang.reset_index()\n",
    "\n",
    "median_lowbudget_lang = median_lowbudget_lang[median_lowbudget_lang['language'].isin(low_budget_language)]\n",
    "median_lowbudget_lang"
   ]
  },
  {
   "cell_type": "code",
   "execution_count": 17,
   "metadata": {},
   "outputs": [
    {
     "data": {
      "text/html": [
       "<div>\n",
       "<style scoped>\n",
       "    .dataframe tbody tr th:only-of-type {\n",
       "        vertical-align: middle;\n",
       "    }\n",
       "\n",
       "    .dataframe tbody tr th {\n",
       "        vertical-align: top;\n",
       "    }\n",
       "\n",
       "    .dataframe thead th {\n",
       "        text-align: right;\n",
       "    }\n",
       "</style>\n",
       "<table border=\"1\" class=\"dataframe\">\n",
       "  <thead>\n",
       "    <tr style=\"text-align: right;\">\n",
       "      <th></th>\n",
       "      <th>language</th>\n",
       "      <th>median_foreignratio</th>\n",
       "      <th>rng</th>\n",
       "    </tr>\n",
       "  </thead>\n",
       "  <tbody>\n",
       "    <tr>\n",
       "      <th>4</th>\n",
       "      <td>Croatian</td>\n",
       "      <td>2.737679</td>\n",
       "      <td>13.535567</td>\n",
       "    </tr>\n",
       "    <tr>\n",
       "      <th>7</th>\n",
       "      <td>Cantonese</td>\n",
       "      <td>2.055000</td>\n",
       "      <td>2.775000</td>\n",
       "    </tr>\n",
       "    <tr>\n",
       "      <th>8</th>\n",
       "      <td>Mandarin Chinese</td>\n",
       "      <td>2.055000</td>\n",
       "      <td>30.258947</td>\n",
       "    </tr>\n",
       "    <tr>\n",
       "      <th>9</th>\n",
       "      <td>Spanish</td>\n",
       "      <td>1.876000</td>\n",
       "      <td>5.638462</td>\n",
       "    </tr>\n",
       "    <tr>\n",
       "      <th>10</th>\n",
       "      <td>Persian</td>\n",
       "      <td>1.711170</td>\n",
       "      <td>9.019286</td>\n",
       "    </tr>\n",
       "    <tr>\n",
       "      <th>11</th>\n",
       "      <td>Bosnian</td>\n",
       "      <td>1.696825</td>\n",
       "      <td>8.451000</td>\n",
       "    </tr>\n",
       "    <tr>\n",
       "      <th>13</th>\n",
       "      <td>Swedish</td>\n",
       "      <td>1.515000</td>\n",
       "      <td>10.648571</td>\n",
       "    </tr>\n",
       "    <tr>\n",
       "      <th>14</th>\n",
       "      <td>Catalan</td>\n",
       "      <td>1.427464</td>\n",
       "      <td>9.491176</td>\n",
       "    </tr>\n",
       "    <tr>\n",
       "      <th>15</th>\n",
       "      <td>Hebrew</td>\n",
       "      <td>1.374328</td>\n",
       "      <td>26.582458</td>\n",
       "    </tr>\n",
       "    <tr>\n",
       "      <th>16</th>\n",
       "      <td>English</td>\n",
       "      <td>1.331429</td>\n",
       "      <td>26.581359</td>\n",
       "    </tr>\n",
       "    <tr>\n",
       "      <th>17</th>\n",
       "      <td>French</td>\n",
       "      <td>1.105882</td>\n",
       "      <td>26.584585</td>\n",
       "    </tr>\n",
       "    <tr>\n",
       "      <th>18</th>\n",
       "      <td>Bulgarian</td>\n",
       "      <td>1.090455</td>\n",
       "      <td>26.584585</td>\n",
       "    </tr>\n",
       "    <tr>\n",
       "      <th>19</th>\n",
       "      <td>Turkish</td>\n",
       "      <td>1.090455</td>\n",
       "      <td>30.578917</td>\n",
       "    </tr>\n",
       "    <tr>\n",
       "      <th>22</th>\n",
       "      <td>Hindi</td>\n",
       "      <td>0.881818</td>\n",
       "      <td>4.184000</td>\n",
       "    </tr>\n",
       "  </tbody>\n",
       "</table>\n",
       "</div>"
      ],
      "text/plain": [
       "            language  median_foreignratio        rng\n",
       "4           Croatian             2.737679  13.535567\n",
       "7          Cantonese             2.055000   2.775000\n",
       "8   Mandarin Chinese             2.055000  30.258947\n",
       "9            Spanish             1.876000   5.638462\n",
       "10           Persian             1.711170   9.019286\n",
       "11           Bosnian             1.696825   8.451000\n",
       "13           Swedish             1.515000  10.648571\n",
       "14           Catalan             1.427464   9.491176\n",
       "15            Hebrew             1.374328  26.582458\n",
       "16           English             1.331429  26.581359\n",
       "17            French             1.105882  26.584585\n",
       "18         Bulgarian             1.090455  26.584585\n",
       "19           Turkish             1.090455  30.578917\n",
       "22             Hindi             0.881818   4.184000"
      ]
     },
     "execution_count": 17,
     "metadata": {},
     "output_type": "execute_result"
    }
   ],
   "source": [
    "median_midbudget_lang = reg_lang_mid_budget.groupby('language').agg(\n",
    "  median_foreignratio=('foreign_success', 'median'),\n",
    "  rng=(\"foreign_success\", lambda x: (max(x) - min(x)))).sort_values('median_foreignratio', ascending = False)\n",
    "\n",
    "median_midbudget_lang = median_midbudget_lang.reset_index()\n",
    "\n",
    "median_midbudget_lang = median_midbudget_lang[median_midbudget_lang['language'].isin(mid_budget_language)]\n",
    "median_midbudget_lang"
   ]
  },
  {
   "cell_type": "code",
   "execution_count": 19,
   "metadata": {},
   "outputs": [
    {
     "data": {
      "text/html": [
       "<div>\n",
       "<style scoped>\n",
       "    .dataframe tbody tr th:only-of-type {\n",
       "        vertical-align: middle;\n",
       "    }\n",
       "\n",
       "    .dataframe tbody tr th {\n",
       "        vertical-align: top;\n",
       "    }\n",
       "\n",
       "    .dataframe thead th {\n",
       "        text-align: right;\n",
       "    }\n",
       "</style>\n",
       "<table border=\"1\" class=\"dataframe\">\n",
       "  <thead>\n",
       "    <tr style=\"text-align: right;\">\n",
       "      <th></th>\n",
       "      <th>language</th>\n",
       "      <th>median_foreignratio</th>\n",
       "      <th>rng</th>\n",
       "    </tr>\n",
       "  </thead>\n",
       "  <tbody>\n",
       "    <tr>\n",
       "      <th>4</th>\n",
       "      <td>Persian</td>\n",
       "      <td>2.731250</td>\n",
       "      <td>10.269329</td>\n",
       "    </tr>\n",
       "    <tr>\n",
       "      <th>5</th>\n",
       "      <td>Mandarin Chinese</td>\n",
       "      <td>2.613821</td>\n",
       "      <td>4.841333</td>\n",
       "    </tr>\n",
       "    <tr>\n",
       "      <th>6</th>\n",
       "      <td>Hindi</td>\n",
       "      <td>2.579456</td>\n",
       "      <td>2.611456</td>\n",
       "    </tr>\n",
       "    <tr>\n",
       "      <th>7</th>\n",
       "      <td>Dutch</td>\n",
       "      <td>2.536667</td>\n",
       "      <td>6.363152</td>\n",
       "    </tr>\n",
       "    <tr>\n",
       "      <th>8</th>\n",
       "      <td>Serbian</td>\n",
       "      <td>2.440107</td>\n",
       "      <td>11.464069</td>\n",
       "    </tr>\n",
       "    <tr>\n",
       "      <th>10</th>\n",
       "      <td>Cantonese</td>\n",
       "      <td>2.315636</td>\n",
       "      <td>3.377273</td>\n",
       "    </tr>\n",
       "    <tr>\n",
       "      <th>11</th>\n",
       "      <td>Catalan</td>\n",
       "      <td>2.280000</td>\n",
       "      <td>10.505027</td>\n",
       "    </tr>\n",
       "    <tr>\n",
       "      <th>12</th>\n",
       "      <td>English</td>\n",
       "      <td>2.221348</td>\n",
       "      <td>12.494541</td>\n",
       "    </tr>\n",
       "    <tr>\n",
       "      <th>16</th>\n",
       "      <td>Bosnian</td>\n",
       "      <td>2.019714</td>\n",
       "      <td>2.788000</td>\n",
       "    </tr>\n",
       "    <tr>\n",
       "      <th>19</th>\n",
       "      <td>Croatian</td>\n",
       "      <td>1.776842</td>\n",
       "      <td>3.720712</td>\n",
       "    </tr>\n",
       "    <tr>\n",
       "      <th>20</th>\n",
       "      <td>Hebrew</td>\n",
       "      <td>1.737500</td>\n",
       "      <td>12.494541</td>\n",
       "    </tr>\n",
       "    <tr>\n",
       "      <th>21</th>\n",
       "      <td>French</td>\n",
       "      <td>1.710769</td>\n",
       "      <td>12.494541</td>\n",
       "    </tr>\n",
       "    <tr>\n",
       "      <th>22</th>\n",
       "      <td>Swedish</td>\n",
       "      <td>1.705960</td>\n",
       "      <td>5.216333</td>\n",
       "    </tr>\n",
       "    <tr>\n",
       "      <th>23</th>\n",
       "      <td>Bulgarian</td>\n",
       "      <td>1.680606</td>\n",
       "      <td>12.494541</td>\n",
       "    </tr>\n",
       "    <tr>\n",
       "      <th>25</th>\n",
       "      <td>Turkish</td>\n",
       "      <td>1.672727</td>\n",
       "      <td>12.494541</td>\n",
       "    </tr>\n",
       "    <tr>\n",
       "      <th>26</th>\n",
       "      <td>Spanish</td>\n",
       "      <td>1.525833</td>\n",
       "      <td>5.242763</td>\n",
       "    </tr>\n",
       "    <tr>\n",
       "      <th>29</th>\n",
       "      <td>Tamil</td>\n",
       "      <td>1.413772</td>\n",
       "      <td>4.399888</td>\n",
       "    </tr>\n",
       "  </tbody>\n",
       "</table>\n",
       "</div>"
      ],
      "text/plain": [
       "            language  median_foreignratio        rng\n",
       "4            Persian             2.731250  10.269329\n",
       "5   Mandarin Chinese             2.613821   4.841333\n",
       "6              Hindi             2.579456   2.611456\n",
       "7              Dutch             2.536667   6.363152\n",
       "8            Serbian             2.440107  11.464069\n",
       "10         Cantonese             2.315636   3.377273\n",
       "11           Catalan             2.280000  10.505027\n",
       "12           English             2.221348  12.494541\n",
       "16           Bosnian             2.019714   2.788000\n",
       "19          Croatian             1.776842   3.720712\n",
       "20            Hebrew             1.737500  12.494541\n",
       "21            French             1.710769  12.494541\n",
       "22           Swedish             1.705960   5.216333\n",
       "23         Bulgarian             1.680606  12.494541\n",
       "25           Turkish             1.672727  12.494541\n",
       "26           Spanish             1.525833   5.242763\n",
       "29             Tamil             1.413772   4.399888"
      ]
     },
     "execution_count": 19,
     "metadata": {},
     "output_type": "execute_result"
    }
   ],
   "source": [
    "median_highbudget_lang = reg_lang_high_budget.groupby('language').agg(\n",
    "  median_foreignratio=('foreign_success', 'median'),\n",
    "  rng=(\"foreign_success\", lambda x: (max(x) - min(x)))).sort_values('median_foreignratio', ascending = False)\n",
    "median_highbudget_lang = median_highbudget_lang.reset_index()\n",
    "\n",
    "median_highbudget_lang = median_highbudget_lang[median_highbudget_lang['language'].isin(high_budget_language)]\n",
    "median_highbudget_lang"
   ]
  },
  {
   "cell_type": "code",
   "execution_count": 21,
   "metadata": {},
   "outputs": [
    {
     "data": {
      "image/png": "[encoded data removed]",
      "text/plain": [
       "<Figure size 1200x800 with 3 Axes>"
      ]
     },
     "metadata": {},
     "output_type": "display_data"
    }
   ],
   "source": [
    "fig, ax = plt.subplots(1,3, figsize = (12,8))\n",
    "\n",
    "ax[0].bar(median_lowbudget_lang['language'], median_lowbudget_lang['median_foreignratio'])\n",
    "\n",
    "ax[1].bar(median_midbudget_lang['language'], median_midbudget_lang['median_foreignratio'])\n",
    "\n",
    "ax[2].bar(median_highbudget_lang['language'], median_highbudget_lang['median_foreignratio'])\n",
    "\n",
    "ax[1].tick_params(axis='x', rotation=90)\n",
    "ax[0].tick_params(axis='x', rotation=90)\n",
    "ax[2].tick_params(axis='x', rotation=90)\n",
    "\n",
    "ax[0].set_title('Low Budget Median Foreign Success Ration')\n",
    "\n",
    "ax[1].set_title('Mid Budget Median Foreign Success Ration')\n",
    "\n",
    "ax[2].set_title('High Budget Median Foreign Success Ration')\n",
    "\n",
    "fig.tight_layout()"
   ]
  },
  {
   "cell_type": "markdown",
   "metadata": {},
   "source": [
    "## Genre"
   ]
  },
  {
   "cell_type": "markdown",
   "metadata": {},
   "source": []
  },
  {
   "cell_type": "code",
   "execution_count": 4,
   "metadata": {},
   "outputs": [],
   "source": [
    "#code showing genre analysis"
   ]
  },
  {
   "cell_type": "markdown",
   "metadata": {},
   "source": [
    "EXPLAIN WHAT IT IS SHOWING"
   ]
  },
  {
   "cell_type": "markdown",
   "metadata": {},
   "source": [
    "## Personel"
   ]
  },
  {
   "cell_type": "code",
   "execution_count": 5,
   "metadata": {},
   "outputs": [],
   "source": [
    "#code showing analysis"
   ]
  },
  {
   "cell_type": "markdown",
   "metadata": {},
   "source": []
  },
  {
   "cell_type": "code",
   "execution_count": null,
   "metadata": {},
   "outputs": [],
   "source": []
  },
  {
   "cell_type": "markdown",
   "metadata": {},
   "source": [
    "# Recommendation 1"
   ]
  },
  {
   "cell_type": "markdown",
   "metadata": {},
   "source": []
  },
  {
   "cell_type": "markdown",
   "metadata": {},
   "source": [
    "# Recommendation 2"
   ]
  },
  {
   "cell_type": "markdown",
   "metadata": {},
   "source": []
  },
  {
   "cell_type": "markdown",
   "metadata": {},
   "source": [
    "# Recommendation 3"
   ]
  },
  {
   "cell_type": "markdown",
   "metadata": {},
   "source": []
  }
 ],
 "metadata": {
  "kernelspec": {
   "display_name": "Python 3 (ipykernel)",
   "language": "python",
   "name": "python3"
  },
  "language_info": {
   "codemirror_mode": {
    "name": "ipython",
    "version": 3
   },
   "file_extension": ".py",
   "mimetype": "text/x-python",
   "name": "python",
   "nbconvert_exporter": "python",
   "pygments_lexer": "ipython3",
   "version": "3.11.4"
  }
 },
 "nbformat": 4,
 "nbformat_minor": 4
}
