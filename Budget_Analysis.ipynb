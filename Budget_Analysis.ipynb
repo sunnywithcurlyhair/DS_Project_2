{
 "cells": [
  {
   "cell_type": "code",
   "execution_count": 53,
   "id": "66c5fc61-26ea-4e71-bf4f-37e967480596",
   "metadata": {},
   "outputs": [],
   "source": [
    "import itertools\n",
    "import numpy as np\n",
    "import pandas as pd \n",
    "from numbers import Number\n",
    "import sqlite3\n",
    "from scipy import stats\n",
    "import matplotlib.pyplot as plt\n",
    "import seaborn as sns\n",
    "import warnings\n",
    "import statsmodels.api as sm\n",
    "warnings.filterwarnings('ignore')"
   ]
  },
  {
   "cell_type": "code",
   "execution_count": 54,
   "id": "b5cd3896-7298-49d3-8f86-28aa24a7a080",
   "metadata": {},
   "outputs": [
    {
     "ename": "OperationalError",
     "evalue": "unable to open database file",
     "output_type": "error",
     "traceback": [
      "\u001b[0;31m---------------------------------------------------------------------------\u001b[0m",
      "\u001b[0;31mOperationalError\u001b[0m                          Traceback (most recent call last)",
      "Cell \u001b[0;32mIn[54], line 1\u001b[0m\n\u001b[0;32m----> 1\u001b[0m conn \u001b[38;5;241m=\u001b[39m \u001b[43msqlite3\u001b[49m\u001b[38;5;241;43m.\u001b[39;49m\u001b[43mconnect\u001b[49m\u001b[43m(\u001b[49m\u001b[38;5;124;43m'\u001b[39;49m\u001b[38;5;124;43mData/im.db\u001b[39;49m\u001b[38;5;124;43m'\u001b[39;49m\u001b[43m)\u001b[49m\n",
      "\u001b[0;31mOperationalError\u001b[0m: unable to open database file"
     ]
    }
   ],
   "source": [
    "conn = sqlite3.connect('Data/im.db')\n"
   ]
  },
  {
   "cell_type": "code",
   "execution_count": null,
   "id": "ded78a76-8203-4df2-ac8b-51109c9c8bbf",
   "metadata": {},
   "outputs": [],
   "source": [
    "imdb_movie_ratings = pd.read_sql('''\n",
    "SELECT *\n",
    "\n",
    "FROM movie_ratings\n",
    "    JOIN movie_basics\n",
    "    USING (movie_id)\n",
    "\n",
    "''', conn)\n",
    "imdb_movie_ratings = imdb_movie_ratings.drop(['movie_id', 'averagerating', 'numvotes', 'start_year'], axis = 1)"
   ]
  },
  {
   "cell_type": "code",
   "execution_count": null,
   "id": "f07f3d5e-6914-4c19-83db-85f71293c41c",
   "metadata": {},
   "outputs": [],
   "source": [
    "imdb_movie_ratings = imdb_movie_ratings[(imdb_movie_ratings['original_title'].isin(titles))| (imdb_movie_ratings['primary_title'].isin(titles))]\n",
    "\n",
    "imdb_movie_ratings\n",
    "\n"
   ]
  },
  {
   "cell_type": "code",
   "execution_count": null,
   "id": "7aafcc98-1b41-42f1-aeb7-fe04cb958ba4",
   "metadata": {},
   "outputs": [],
   "source": [
    "people = pd.read_sql('''\n",
    "SELECT p.person_id, p.category, mb.primary_title, pe.primary_name\n",
    "\n",
    "FROM principals as p\n",
    "    JOIN movie_basics as mb\n",
    "    USING(movie_id)\n",
    "    JOIN persons as pe\n",
    "    USING (person_id)\n",
    "    \n",
    "''', conn)\n",
    "\n"
   ]
  },
  {
   "cell_type": "code",
   "execution_count": null,
   "id": "e79102ba-9f4c-42fc-906c-67b427ef86f0",
   "metadata": {},
   "outputs": [],
   "source": [
    "reg_lang = pd.read_sql('''\n",
    "SELECT mak.language, mak.region, mb.primary_title\n",
    "\n",
    "FROM movie_akas as mak\n",
    "    JOIN movie_basics as mb\n",
    "    USING(movie_id)\n",
    "    \n",
    "    \n",
    "''', conn)\n",
    "language_dict = {\n",
    "    'bg': 'Bulgarian',\n",
    "    'he': 'Hebrew',\n",
    "    'fr': 'French',\n",
    "    'tr': 'Turkish',\n",
    "    'ka': 'Georgian',\n",
    "    'ta': 'Tamil',\n",
    "    'te': 'Telugu',\n",
    "    'en': 'English',\n",
    "    'sv': 'Swedish',\n",
    "    'hr': 'Croatian',\n",
    "    'sl': 'Slovenian',\n",
    "    'ca': 'Catalan',\n",
    "    'fa': 'Persian',\n",
    "    'es': 'Spanish',\n",
    "    'cs': 'Czech',\n",
    "    'nl': 'Dutch',\n",
    "    'sr': 'Serbian',\n",
    "    'sk': 'Slovak',\n",
    "    'et': 'Estonian',\n",
    "    'it': 'Italian',\n",
    "    'hu': 'Hungarian',\n",
    "    'da': 'Danish',\n",
    "    'de': 'German',\n",
    "    'el': 'Greek',\n",
    "    'pt': 'Portuguese',\n",
    "    'fi': 'Finnish',\n",
    "    'no': 'Norwegian',\n",
    "    'ru': 'Russian',\n",
    "    'uk': 'Ukrainian',\n",
    "    'ro': 'Romanian',\n",
    "    'lt': 'Lithuanian',\n",
    "    'cmn': 'Mandarin Chinese',\n",
    "    'bs': 'Bosnian',\n",
    "    'hi': 'Hindi',\n",
    "    'th': 'Thai',\n",
    "    'ms': 'Malay',\n",
    "    'ar': 'Arabic',\n",
    "    'qbp': None,  # You have 'qbp' with no corresponding full name.\n",
    "    'ml': 'Malayalam',\n",
    "    'yue': 'Cantonese',\n",
    "    'qbn': None,  # You have 'qbn' with no corresponding full name.\n",
    "    'id': 'Indonesian',\n",
    "    'gl': 'Galician',\n",
    "    'ga': 'Irish',\n",
    "    'mr': 'Marathi',\n",
    "    'pl': 'Polish',\n",
    "    'tl': 'Tagalog',\n",
    "    'vi': 'Vietnamese',\n",
    "    'eu': 'Basque',\n",
    "    'ja': 'Japanese',\n",
    "    'bn': 'Bengali',\n",
    "    'ur': 'Urdu'\n",
    "}\n",
    "reg_lang = reg_lang.replace(({\"language\": language_dict}))\n",
    "\n",
    "reg_lang_money = pd.merge(reg_lang, budget_gross_cleaned, left_on = 'primary_title', right_on = 'title')\n",
    "reg_lang_money"
   ]
  },
  {
   "cell_type": "code",
   "execution_count": null,
   "id": "21381dfd-0706-44c3-b1c7-aaa153d689f9",
   "metadata": {},
   "outputs": [],
   "source": [
    "people = people[people['primary_title'].isin(titles)]\n",
    "people.primary_title.value_counts()"
   ]
  },
  {
   "cell_type": "code",
   "execution_count": null,
   "id": "966276c3-51f9-4b46-a052-247e07d1fede",
   "metadata": {},
   "outputs": [],
   "source": [
    "imdb_ratings_money = pd.merge(imdb_movie_ratings, budget_gross_cleaned, left_on = 'primary_title', right_on = 'title')\n",
    "imdb_ratings_money = imdb_ratings_money.drop(['primary_title', 'original_title', 'studio', 'year', 'id', 'release_date'], axis = 1)"
   ]
  },
  {
   "cell_type": "code",
   "execution_count": null,
   "id": "750c570d-9068-4eeb-88f8-02101bdcb772",
   "metadata": {},
   "outputs": [],
   "source": [
    "people"
   ]
  },
  {
   "cell_type": "code",
   "execution_count": null,
   "id": "2b0ac2b1-0b7d-4735-b630-396a959663fe",
   "metadata": {},
   "outputs": [],
   "source": [
    "low_budget_ratings = imdb_ratings_money[imdb_ratings_money['production_budget'] < 5000000]\n",
    "low_budget_ratings_moneymaker = low_budget_ratings[low_budget_ratings['WW_success'] > 1]\n"
   ]
  },
  {
   "cell_type": "code",
   "execution_count": null,
   "id": "b2ad0f9f-1ba0-4a38-ab81-1c974576d531",
   "metadata": {},
   "outputs": [],
   "source": [
    "\n",
    "\n",
    "mid_budget_ratings = imdb_ratings_money[(imdb_ratings_money['production_budget'] > 5000000) & (imdb_ratings_money['production_budget'] < 50000000)]\n",
    "mid_budget_ratings_moneymaker = mid_budget_ratings[mid_budget_ratings['WW_success'] > 1]"
   ]
  },
  {
   "cell_type": "code",
   "execution_count": null,
   "id": "6763d6cb-ab87-4af7-b150-3bb89ed4e6f1",
   "metadata": {},
   "outputs": [],
   "source": [
    "high_budget_ratings = imdb_ratings_money[imdb_ratings_money['production_budget'] > 50000000]\n",
    "high_budget_ratings_moneymaker = high_budget_ratings[high_budget_ratings['WW_success'] > 1]"
   ]
  },
  {
   "cell_type": "code",
   "execution_count": null,
   "id": "05426a80-421b-4f46-ac0a-5ac04d07ec41",
   "metadata": {},
   "outputs": [],
   "source": [
    "low_budget_no_outlier = low_budget[low_budget['WW_success'] < 1400]"
   ]
  },
  {
   "cell_type": "code",
   "execution_count": null,
   "id": "cc70f0d4-6a2f-4015-a42b-f419ec5c05c6",
   "metadata": {},
   "outputs": [],
   "source": [
    "low_budget_no_outlier.describe().iloc[:,-3:]\n"
   ]
  },
  {
   "cell_type": "code",
   "execution_count": null,
   "id": "6941d308-4ae1-4efd-994f-98a03b8964f9",
   "metadata": {},
   "outputs": [],
   "source": [
    "#boxplot = low_budget_no_outlier.boxplot(column=['domestic_success', 'foreign_success', 'WW_success'])\n",
    "fig, ax = plt.subplots(1,3, figsize = (12,8), sharey= True)\n",
    "\n",
    "ax[0].boxplot(low_budget_no_outlier['domestic_success'], showfliers=False)\n",
    "\n",
    "ax[0].set_title('Low Budget Domestic Success')\n",
    "ax[0].set_ylabel('Domestic Success')\n",
    "\n",
    "ax[1].boxplot(low_budget_no_outlier['foreign_success'],showfliers=False)\n",
    "ax[1].set_title('Low Budget Foreign Success')\n",
    "ax[1].set_ylabel('Foreign Success')\n",
    "\n",
    "ax[2].boxplot(low_budget_no_outlier['WW_success'],showfliers=False)\n",
    "ax[2].set_title('Low Budget Worldwide Success')\n",
    "ax[2].set_ylabel('Worldwide Success')"
   ]
  },
  {
   "cell_type": "code",
   "execution_count": null,
   "id": "7e98c8b0-bc4e-4774-b0c4-5f5846bbed09",
   "metadata": {},
   "outputs": [],
   "source": [
    "mid_budget.describe().iloc[:,-3:]"
   ]
  },
  {
   "cell_type": "code",
   "execution_count": null,
   "id": "a42cc441-7b17-4db5-a359-c7bd7850c238",
   "metadata": {},
   "outputs": [],
   "source": [
    "#boxplot = mid_budget.boxplot(column=['domestic_success', 'foreign_success', 'WW_success'])\n",
    "\n",
    "fig, ax = plt.subplots(1,3, figsize = (12,8), sharey= True)\n",
    "\n",
    "ax[0].boxplot(mid_budget['domestic_success'])\n",
    "\n",
    "ax[0].set_title('Mid Budget Domestic Success')\n",
    "ax[0].set_ylabel('Domestic Success')\n",
    "\n",
    "ax[1].boxplot(mid_budget['foreign_success'])\n",
    "ax[1].set_title('Mid Budget Foreign Success')\n",
    "ax[1].set_ylabel('Foreign Success')\n",
    "\n",
    "ax[2].boxplot(mid_budget['WW_success'])\n",
    "ax[2].set_title('Mid Budget Worldwide Success')\n",
    "ax[2].set_ylabel('Worldwide Success')\n"
   ]
  },
  {
   "cell_type": "code",
   "execution_count": null,
   "id": "1a94402b-0c1a-458e-a49b-5e05182b77ed",
   "metadata": {},
   "outputs": [],
   "source": [
    "high_budget.describe().iloc[:,-3:]"
   ]
  },
  {
   "cell_type": "code",
   "execution_count": null,
   "id": "3e32c40d-aeb0-4c18-abbb-3e468931f1a6",
   "metadata": {},
   "outputs": [],
   "source": [
    "#boxplot = high_budget.boxplot(column=['domestic_success', 'foreign_success', 'WW_success'])\n",
    "\n",
    "fig, ax = plt.subplots(1,3, figsize = (12,8), sharey= True)\n",
    "\n",
    "ax[0].boxplot(high_budget['domestic_success'])\n",
    "\n",
    "ax[0].set_title('High Budget Domestic Success')\n",
    "ax[0].set_ylabel('Domestic Success')\n",
    "\n",
    "ax[1].boxplot(high_budget['foreign_success'])\n",
    "ax[1].set_title('High Budget Foreign Success')\n",
    "ax[1].set_ylabel('Foreign Success')\n",
    "\n",
    "ax[2].boxplot(high_budget['WW_success'])\n",
    "ax[2].set_title('High Budget Worldwide Success')\n",
    "ax[2].set_ylabel('Worldwide Success')\n"
   ]
  },
  {
   "cell_type": "code",
   "execution_count": null,
   "id": "df59e105-542e-4c1d-9fe9-71d7ae13f55e",
   "metadata": {},
   "outputs": [],
   "source": [
    "fig, ax = plt.subplots(1,3, figsize = (20,8), sharex = True)\n",
    "\n",
    "ax[0].hist(low_budget_ratings_moneymaker['runtime_minutes'], bins = 20)\n",
    "\n",
    "\n",
    "ax[1].hist(mid_budget_ratings_moneymaker['runtime_minutes'],bins = 20)\n",
    "ax[2].hist(high_budget_ratings_moneymaker['runtime_minutes'],bins = 20)\n",
    "\n",
    "ax[0].set_title('Low Budget Runtime Distribution')\n",
    "ax[0].set_xlabel('Runtime (minutes)')\n",
    "ax[1].set_title('Mid Budget Runtime Distribution')\n",
    "ax[1].set_xlabel('Runtime (minutes)')\n",
    "ax[2].set_title('High Budget Runtime Distribution')\n",
    "ax[2].set_xlabel('Runtime (minutes)')"
   ]
  },
  {
   "cell_type": "code",
   "execution_count": null,
   "id": "477036e4-5664-46c4-bae3-c6d671c46543",
   "metadata": {},
   "outputs": [],
   "source": [
    "x_bar = np.mean(low_budget_ratings_moneymaker['runtime_minutes'])\n",
    "s = np.std(low_budget_ratings_moneymaker['runtime_minutes'], ddof = 1)\n",
    "se = s/np.sqrt(len(low_budget_ratings_moneymaker['runtime_minutes']))\n",
    "print('Sample mean:', x_bar)\n",
    "print('Sample standard deviation:', s)\n",
    "print('Estimated standard error:', se)\n",
    "stats.t.interval(confidence = 0.95,                              \n",
    "                 df= len(low_budget_ratings_moneymaker['runtime_minutes'])-1,             \n",
    "                 loc = x_bar,                               \n",
    "                 scale = se)    "
   ]
  },
  {
   "cell_type": "code",
   "execution_count": null,
   "id": "46ef2a60-6e7b-4909-87a6-460d4a39bc95",
   "metadata": {},
   "outputs": [],
   "source": [
    "x_bar = np.mean(mid_budget_ratings_moneymaker['runtime_minutes'])\n",
    "s = np.std(mid_budget_ratings_moneymaker['runtime_minutes'], ddof = 1)\n",
    "se = s/np.sqrt(len(mid_budget_ratings_moneymaker['runtime_minutes']))\n",
    "print('Sample mean:', x_bar)\n",
    "print('Sample standard deviation:', s)\n",
    "print('Estimated standard error:', se)\n",
    "stats.t.interval(confidence = 0.95,                              \n",
    "                 df= len(mid_budget_ratings_moneymaker['runtime_minutes'])-1,             \n",
    "                 loc = x_bar,                               \n",
    "                 scale = se)    "
   ]
  },
  {
   "cell_type": "code",
   "execution_count": null,
   "id": "454ba353-dc58-4c9e-ac0a-fb3603281509",
   "metadata": {},
   "outputs": [],
   "source": [
    "x_bar = np.mean(high_budget_ratings_moneymaker['runtime_minutes'])\n",
    "s = np.std(high_budget_ratings_moneymaker['runtime_minutes'], ddof = 1)\n",
    "se = s/np.sqrt(len(high_budget_ratings_moneymaker['runtime_minutes']))\n",
    "print('Sample mean:', x_bar)\n",
    "print('Sample standard deviation:', s)\n",
    "print('Estimated standard error:', se)\n",
    "stats.t.interval(confidence = 0.95,                              \n",
    "                 df= len(high_budget_ratings_moneymaker['runtime_minutes'])-1,             \n",
    "                 loc = x_bar,                               \n",
    "                 scale = se)    "
   ]
  },
  {
   "cell_type": "code",
   "execution_count": null,
   "id": "f9ccd250-9a68-48b0-8bf9-bbb0f49a7e84",
   "metadata": {},
   "outputs": [],
   "source": [
    "low_budget.describe()"
   ]
  },
  {
   "cell_type": "code",
   "execution_count": null,
   "id": "045c5459-2775-42d4-a66c-3bc72074cdc8",
   "metadata": {},
   "outputs": [],
   "source": [
    "low_budget_ratings['genres'] = low_budget_ratings['genres'].str.split(',')\n",
    "mid_budget_ratings['genres'] = mid_budget_ratings['genres'].str.split(',')\n",
    "high_budget_ratings['genres'] = high_budget_ratings['genres'].str.split(',')"
   ]
  },
  {
   "cell_type": "code",
   "execution_count": null,
   "id": "a146f83a-cb8a-476d-b1fc-9f54df2c5e74",
   "metadata": {},
   "outputs": [],
   "source": [
    "low_budget_genres = low_budget_ratings.explode('genres')\n",
    "mid_budget_genres = mid_budget_ratings.explode('genres')\n",
    "high_budget_genres = high_budget_ratings.explode('genres')"
   ]
  },
  {
   "cell_type": "code",
   "execution_count": null,
   "id": "a7ffd83f-e4ad-4739-b325-88f4186cc7dc",
   "metadata": {},
   "outputs": [],
   "source": [
    "high_budget_genres.groupby('genres').agg(\n",
    "  avg_wwratio=('WW_success', 'mean'),\n",
    "  rng=(\"WW_success\", lambda x: (max(x) - min(x))))"
   ]
  },
  {
   "cell_type": "code",
   "execution_count": null,
   "id": "16862af6-499c-44ad-9e5f-3469d8643214",
   "metadata": {},
   "outputs": [],
   "source": [
    "high_budget_genres['genres'].value_counts()"
   ]
  },
  {
   "cell_type": "code",
   "execution_count": null,
   "id": "51038590-22b9-47a6-9995-0ad4469842f8",
   "metadata": {},
   "outputs": [],
   "source": [
    "mid_budget_genres.groupby('genres').agg(\n",
    "  avg_wwratio=('WW_success', 'mean'),\n",
    "  rng=(\"WW_success\", lambda x: (max(x) - min(x))))"
   ]
  },
  {
   "cell_type": "code",
   "execution_count": null,
   "id": "e017d25a-817b-4964-a0ae-082eb62d414f",
   "metadata": {},
   "outputs": [],
   "source": [
    "mid_budget_genres['genres'].value_counts()"
   ]
  },
  {
   "cell_type": "code",
   "execution_count": null,
   "id": "4e24c23e-79ad-41e6-964a-476fa850fa47",
   "metadata": {},
   "outputs": [],
   "source": [
    "low_budget_genres.groupby('genres').agg(\n",
    "  median_wwratio=('WW_success', 'median'),\n",
    "  rng=(\"WW_success\", lambda x: (max(x) - min(x))))"
   ]
  },
  {
   "cell_type": "code",
   "execution_count": null,
   "id": "6f974888-ddfb-4987-b77d-2a37d8917f5b",
   "metadata": {},
   "outputs": [],
   "source": [
    "low_budget_genres['genres'].value_counts()"
   ]
  },
  {
   "cell_type": "code",
   "execution_count": null,
   "id": "c18228d9-a5c5-45f0-9a13-e01a5a514168",
   "metadata": {},
   "outputs": [],
   "source": [
    "low_budget_rt_nonan = low_budget_ratings.dropna()\n",
    "mid_budget_rt_nonan = mid_budget_ratings.dropna()\n",
    "high_budget_rt_nonan = high_budget_ratings.dropna()"
   ]
  },
  {
   "cell_type": "code",
   "execution_count": null,
   "id": "6ead7e6b-328e-4f41-a2b5-79ab3ebf39db",
   "metadata": {},
   "outputs": [],
   "source": [
    "rho = np.corrcoef(low_budget_rt_nonan[\"runtime_minutes\"], low_budget_rt_nonan[\"WW_success\"])[0][1]\n",
    "s_y = low_budget_rt_nonan[\"WW_success\"].std()\n",
    "s_x = low_budget_rt_nonan[\"runtime_minutes\"].std()\n",
    "m = rho * s_y / s_x\n",
    "\n",
    "\n",
    "mean_y = low_budget_rt_nonan[\"WW_success\"].mean()\n",
    "mean_x = low_budget_rt_nonan[\"runtime_minutes\"].mean()\n",
    "c = mean_y - m * mean_x\n",
    "model = sm.OLS(endog=low_budget_rt_nonan[\"WW_success\"], exog=sm.add_constant(low_budget_rt_nonan[\"runtime_minutes\"]))\n",
    "print(f\"Our regression line is: y = {round(m, 5)}x + {round(c, 5)}\")\n",
    "results_low = model.fit()\n",
    "\n",
    "fig, ax = plt.subplots()\n",
    "low_budget_rt_nonan.plot.scatter(x=\"runtime_minutes\", y=\"WW_success\", label=\"Data points\", ax=ax)\n",
    "sm.graphics.abline_plot(model_results=results_low, label=\"Regression line\", ax=ax)\n",
    "ax.legend();\n"
   ]
  },
  {
   "cell_type": "code",
   "execution_count": null,
   "id": "9daef779-ee94-4c0b-859d-f53a20f9a21d",
   "metadata": {},
   "outputs": [],
   "source": [
    "results_low.summary()"
   ]
  },
  {
   "cell_type": "code",
   "execution_count": null,
   "id": "c73ab8b4-88b4-44d3-8ce0-3e6b89c38053",
   "metadata": {},
   "outputs": [],
   "source": [
    "rho = np.corrcoef(mid_budget_rt_nonan[\"runtime_minutes\"], mid_budget_rt_nonan[\"WW_success\"])[0][1]\n",
    "s_y = mid_budget_rt_nonan[\"WW_success\"].std()\n",
    "s_x = mid_budget_rt_nonan[\"runtime_minutes\"].std()\n",
    "m = rho * s_y / s_x\n",
    "\n",
    "\n",
    "mean_y = mid_budget_rt_nonan[\"WW_success\"].mean()\n",
    "mean_x = mid_budget_rt_nonan[\"runtime_minutes\"].mean()\n",
    "c = mean_y - m * mean_x\n",
    "model = sm.OLS(endog=mid_budget_rt_nonan[\"WW_success\"], exog=sm.add_constant(mid_budget_rt_nonan[\"runtime_minutes\"]))\n",
    "print(f\"Our regression line is: y = {round(m, 5)}x + {round(c, 5)}\")\n",
    "results_mid = model.fit()\n",
    "\n",
    "fig, ax = plt.subplots()\n",
    "mid_budget_rt_nonan.plot.scatter(x=\"runtime_minutes\", y=\"WW_success\", label=\"Data points\", ax=ax)\n",
    "sm.graphics.abline_plot(model_results=results_mid, label=\"Regression line\", ax=ax)\n",
    "ax.legend();\n"
   ]
  },
  {
   "cell_type": "code",
   "execution_count": null,
   "id": "621fbe66-ccd6-4c3a-b8ae-2efdccfb9855",
   "metadata": {},
   "outputs": [],
   "source": [
    "results_mid.summary()"
   ]
  },
  {
   "cell_type": "code",
   "execution_count": 55,
   "id": "1f2f1973-12d1-408e-bd37-a68d269ec3d1",
   "metadata": {},
   "outputs": [
    {
     "ename": "NameError",
     "evalue": "name 'high_budget_rt_nonan' is not defined",
     "output_type": "error",
     "traceback": [
      "\u001b[0;31m---------------------------------------------------------------------------\u001b[0m",
      "\u001b[0;31mNameError\u001b[0m                                 Traceback (most recent call last)",
      "Cell \u001b[0;32mIn[55], line 1\u001b[0m\n\u001b[0;32m----> 1\u001b[0m rho \u001b[38;5;241m=\u001b[39m np\u001b[38;5;241m.\u001b[39mcorrcoef(\u001b[43mhigh_budget_rt_nonan\u001b[49m[\u001b[38;5;124m\"\u001b[39m\u001b[38;5;124mruntime_minutes\u001b[39m\u001b[38;5;124m\"\u001b[39m], high_budget_rt_nonan[\u001b[38;5;124m\"\u001b[39m\u001b[38;5;124mWW_success\u001b[39m\u001b[38;5;124m\"\u001b[39m])[\u001b[38;5;241m0\u001b[39m][\u001b[38;5;241m1\u001b[39m]\n\u001b[1;32m      2\u001b[0m s_y \u001b[38;5;241m=\u001b[39m high_budget_rt_nonan[\u001b[38;5;124m\"\u001b[39m\u001b[38;5;124mWW_success\u001b[39m\u001b[38;5;124m\"\u001b[39m]\u001b[38;5;241m.\u001b[39mstd()\n\u001b[1;32m      3\u001b[0m s_x \u001b[38;5;241m=\u001b[39m high_budget_rt_nonan[\u001b[38;5;124m\"\u001b[39m\u001b[38;5;124mruntime_minutes\u001b[39m\u001b[38;5;124m\"\u001b[39m]\u001b[38;5;241m.\u001b[39mstd()\n",
      "\u001b[0;31mNameError\u001b[0m: name 'high_budget_rt_nonan' is not defined"
     ]
    }
   ],
   "source": [
    "rho = np.corrcoef(high_budget_rt_nonan[\"runtime_minutes\"], high_budget_rt_nonan[\"WW_success\"])[0][1]\n",
    "s_y = high_budget_rt_nonan[\"WW_success\"].std()\n",
    "s_x = high_budget_rt_nonan[\"runtime_minutes\"].std()\n",
    "m = rho * s_y / s_x\n",
    "\n",
    "\n",
    "mean_y = high_budget_rt_nonan[\"WW_success\"].mean()\n",
    "mean_x = high_budget_rt_nonan[\"runtime_minutes\"].mean()\n",
    "c = mean_y - m * mean_x\n",
    "model = sm.OLS(endog=high_budget_rt_nonan[\"WW_success\"], exog=sm.add_constant(high_budget_rt_nonan[\"runtime_minutes\"]))\n",
    "print(f\"Our regression line is: y = {round(m, 5)}x + {round(c, 5)}\")\n",
    "results_high = model.fit()\n",
    "\n",
    "fig, ax = plt.subplots()\n",
    "high_budget_rt_nonan.plot.scatter(x=\"runtime_minutes\", y=\"WW_success\", label=\"Data points\", ax=ax)\n",
    "sm.graphics.abline_plot(model_results=results_high, label=\"Regression line\", ax=ax)\n",
    "ax.legend();\n"
   ]
  },
  {
   "cell_type": "code",
   "execution_count": null,
   "id": "a8821428-8ce9-4f4a-a110-03c787c499c0",
   "metadata": {},
   "outputs": [],
   "source": [
    "results_high.summary()"
   ]
  },
  {
   "cell_type": "code",
   "execution_count": null,
   "id": "ca588b03-1173-47ea-a8ae-a89d37723faf",
   "metadata": {},
   "outputs": [],
   "source": []
  },
  {
   "cell_type": "code",
   "execution_count": null,
   "id": "28881590-fb60-4061-8012-62aba77fa0ff",
   "metadata": {},
   "outputs": [],
   "source": [
    "people_money = pd.merge(people, budget_gross_cleaned, left_on = 'primary_title', right_on = 'title')"
   ]
  },
  {
   "cell_type": "code",
   "execution_count": null,
   "id": "c105cc77-9807-4e0a-a17f-67a6c4ad190f",
   "metadata": {},
   "outputs": [],
   "source": [
    "people_money"
   ]
  },
  {
   "cell_type": "code",
   "execution_count": null,
   "id": "380677d6-794d-4ee8-a4fd-c6ade37fc742",
   "metadata": {},
   "outputs": [],
   "source": [
    "people_money.groupby(['primary_name', 'category']).agg(\n",
    "  median_wwratio=('WW_success', 'median'),\n",
    "  rng=(\"WW_success\", lambda x: (max(x) - min(x)))).sort_values('median_wwratio', ascending = False)"
   ]
  },
  {
   "cell_type": "code",
   "execution_count": null,
   "id": "a27e38d4-a8fe-4d70-af56-a92a96b204cc",
   "metadata": {},
   "outputs": [],
   "source": []
  },
  {
   "cell_type": "code",
   "execution_count": null,
   "id": "fa69e6e5-1fea-47f0-97ac-b006fd6a862f",
   "metadata": {},
   "outputs": [],
   "source": [
    "\n",
    "reg_lang_money.groupby('language').agg(\n",
    "  mean_foreignratio=('foreign_success', 'mean'),\n",
    "  rng=(\"WW_success\", lambda x: (max(x) - min(x)))).sort_values('mean_foreignratio', ascending = False)"
   ]
  },
  {
   "cell_type": "code",
   "execution_count": null,
   "id": "7617246d-261f-4e50-bb97-e853ae7a0e8e",
   "metadata": {},
   "outputs": [],
   "source": [
    "reg_lang_low_budget = pd.merge(reg_lang, low_budget, left_on = 'primary_title', right_on = 'title')\n",
    "reg_lang_mid_budget = pd.merge(reg_lang, mid_budget, left_on = 'primary_title', right_on = 'title')\n",
    "reg_lang_high_budget = pd.merge(reg_lang, high_budget, left_on = 'primary_title', right_on = 'title')"
   ]
  },
  {
   "cell_type": "code",
   "execution_count": null,
   "id": "3a7758c1-5db0-4837-955b-5e071d15c872",
   "metadata": {},
   "outputs": [],
   "source": [
    "median_lowbudget_lang = reg_lang_low_budget.groupby('language').agg(\n",
    "  median_foreignratio=('foreign_success', 'median'),\n",
    "  rng=(\"foreign_success\", lambda x: (max(x) - min(x)))).sort_values('median_foreignratio', ascending = False)\n",
    "median_lowbudget_lang = median_lowbudget_lang.reset_index()\n",
    "median_lowbudget_lang"
   ]
  },
  {
   "cell_type": "code",
   "execution_count": null,
   "id": "f0bed6f1-dcbc-460c-9832-7970bba89a15",
   "metadata": {},
   "outputs": [],
   "source": [
    "reg_lang_low_budget['language'].value_counts()"
   ]
  },
  {
   "cell_type": "code",
   "execution_count": null,
   "id": "4df62c40-250c-4b5d-aa14-ccd9f7ff9f9b",
   "metadata": {},
   "outputs": [],
   "source": [
    "low_budget_language = ['English', 'Turkish', 'Bulgarian', 'French', 'Hebrew', 'Croatian', 'Swedish']\n",
    "median_lowbudget_lang = median_lowbudget_lang[median_lowbudget_lang['language'].isin(low_budget_language)]\n",
    "median_lowbudget_lang"
   ]
  },
  {
   "cell_type": "code",
   "execution_count": null,
   "id": "67a0b592-a727-43c7-9bff-3c8f7c0cc3ae",
   "metadata": {},
   "outputs": [],
   "source": [
    "median_midbudget_lang = reg_lang_mid_budget.groupby('language').agg(\n",
    "  median_foreignratio=('foreign_success', 'median'),\n",
    "  rng=(\"foreign_success\", lambda x: (max(x) - min(x)))).sort_values('median_foreignratio', ascending = False)\n",
    "median_midbudget_lang = median_midbudget_lang.reset_index()\n",
    "median_midbudget_lang"
   ]
  },
  {
   "cell_type": "code",
   "execution_count": null,
   "id": "343b3af8-57c7-41ed-9a15-bfe3d530dd4f",
   "metadata": {},
   "outputs": [],
   "source": [
    "reg_lang_mid_budget['language'].value_counts()"
   ]
  },
  {
   "cell_type": "code",
   "execution_count": null,
   "id": "d13fdc9d-aa3e-450e-be6c-701b8ad8c346",
   "metadata": {},
   "outputs": [],
   "source": [
    "mid_budget_language = ['English', 'Turkish', 'Bulgarian', 'French', 'Hebrew', 'Croatian', 'Swedish', 'Persian', 'Catalan', 'Mandarin Chinese', 'Spanish', 'Bosnian', 'Cantonese', 'Hindi']\n",
    "median_midbudget_lang = median_midbudget_lang[median_midbudget_lang['language'].isin(mid_budget_language)]\n",
    "median_midbudget_lang"
   ]
  },
  {
   "cell_type": "code",
   "execution_count": null,
   "id": "3fb68e7f-183f-46cf-b2ce-e84ada8088d8",
   "metadata": {
    "scrolled": true
   },
   "outputs": [],
   "source": [
    "median_highbudget_lang = reg_lang_high_budget.groupby('language').agg(\n",
    "  mean_foreignratio=('foreign_success', 'mean'),\n",
    "  rng=(\"foreign_success\", lambda x: (max(x) - min(x)))).sort_values('mean_foreignratio', ascending = False)\n",
    "median_highbudget_lang = median_highbudget_lang.reset_index()\n",
    "median_highbudget_lang\n",
    "\n",
    "high_budget_language = ['English', 'Turkish', 'Bulgarian', 'French', 'Hebrew', 'Croatian', 'Swedish', 'Persian', 'Catalan', 'Mandarin Chinese', 'Spanish', 'Bosnian', 'Cantonese', 'Hindi', 'Dutch', 'Tamil', 'Serbian']\n",
    "median_highbudget_lang = median_highbudget_lang[median_highbudget_lang['language'].isin(high_budget_language)]\n",
    "median_highbudget_lang\n",
    "\n"
   ]
  },
  {
   "cell_type": "code",
   "execution_count": null,
   "id": "b7eaffc8-10cd-4eb2-941e-a7a15b7d2abc",
   "metadata": {},
   "outputs": [],
   "source": [
    "reg_lang_high_budget['language'].value_counts()"
   ]
  },
  {
   "cell_type": "code",
   "execution_count": null,
   "id": "d1f42833-1560-48bc-8bb1-11a7ae7b71e8",
   "metadata": {},
   "outputs": [],
   "source": [
    "fig, ax = plt.subplots(1,3, figsize = (12,8))\n",
    "\n",
    "ax[0].bar(median_lowbudget_lang['language'], median_lowbudget_lang['median_foreignratio'])\n",
    "\n",
    "ax[1].bar(median_midbudget_lang['language'], median_midbudget_lang['median_foreignratio'])\n",
    "\n",
    "ax[2].bar(median_highbudget_lang['language'], median_highbudget_lang['mean_foreignratio'])\n",
    "\n",
    "ax[1].tick_params(axis='x', rotation=90)\n",
    "ax[0].tick_params(axis='x', rotation=90)\n",
    "ax[2].tick_params(axis='x', rotation=90)\n",
    "\n",
    "ax[0].set_title('Low Budget Median Foreign Success Ration')\n",
    "\n",
    "ax[1].set_title('Mid Budget Median Foreign Success Ration')\n",
    "\n",
    "ax[2].set_title('High Budget Median Foreign Success Ration')\n",
    "\n",
    "fig.tight_layout()"
   ]
  },
  {
   "cell_type": "code",
   "execution_count": null,
   "id": "61ae3cc8-39a2-4ed7-a508-4e915351018b",
   "metadata": {},
   "outputs": [],
   "source": []
  }
 ],
 "metadata": {
  "kernelspec": {
   "display_name": "Python 3 (ipykernel)",
   "language": "python",
   "name": "python3"
  },
  "language_info": {
   "codemirror_mode": {
    "name": "ipython",
    "version": 3
   },
   "file_extension": ".py",
   "mimetype": "text/x-python",
   "name": "python",
   "nbconvert_exporter": "python",
   "pygments_lexer": "ipython3",
   "version": "3.11.4"
  }
 },
 "nbformat": 4,
 "nbformat_minor": 5
}
